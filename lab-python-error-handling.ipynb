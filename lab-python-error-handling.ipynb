{
 "cells": [
  {
   "cell_type": "markdown",
   "id": "25d7736c-ba17-4aff-b6bb-66eba20fbf4e",
   "metadata": {},
   "source": [
    "# Lab | Error Handling"
   ]
  },
  {
   "cell_type": "markdown",
   "id": "bc99b386-7508-47a0-bcdb-d969deaf6c8b",
   "metadata": {},
   "source": [
    "## Exercise: Error Handling for Managing Customer Orders\n",
    "\n",
    "The implementation of your code for managing customer orders assumes that the user will always enter a valid input. \n",
    "\n",
    "For example, we could modify the `initialize_inventory` function to include error handling.\n",
    "   - If the user enters an invalid quantity (e.g., a negative value or a non-numeric value), display an error message and ask them to re-enter the quantity for that product.\n",
    "   - Use a try-except block to handle the error and continue prompting the user until a valid quantity is entered.\n",
    "\n",
    "```python\n",
    "# Step 1: Define the function for initializing the inventory with error handling\n",
    "def initialize_inventory(products):\n",
    "    inventory = {}\n",
    "    for product in products:\n",
    "        valid_quantity = False\n",
    "        while not valid_quantity:\n",
    "            try:\n",
    "                quantity = int(input(f\"Enter the quantity of {product}s available: \"))\n",
    "                if quantity < 0:\n",
    "                    raise ValueError(\"Invalid quantity! Please enter a non-negative value.\")\n",
    "                valid_quantity = True\n",
    "            except ValueError as error:\n",
    "                print(f\"Error: {error}\")\n",
    "        inventory[product] = quantity\n",
    "    return inventory\n",
    "\n",
    "# Or, in another way:\n",
    "\n",
    "def initialize_inventory(products):\n",
    "    inventory = {}\n",
    "    for product in products:\n",
    "        valid_input = False\n",
    "        while not valid_input:\n",
    "            try:\n",
    "                quantity = int(input(f\"Enter the quantity of {product}s available: \"))\n",
    "                if quantity >= 0:\n",
    "                    inventory[product] = quantity\n",
    "                    valid_input = True\n",
    "                else:\n",
    "                    print(\"Quantity cannot be negative. Please enter a valid quantity.\")\n",
    "            except ValueError:\n",
    "                print(\"Invalid input. Please enter a valid quantity.\")\n",
    "    return inventory\n",
    "```\n",
    "\n",
    "Let's enhance your code by implementing error handling to handle invalid inputs.\n",
    "\n",
    "Follow the steps below to complete the exercise:\n",
    "\n",
    "2. Modify the `calculate_total_price` function to include error handling.\n",
    "   - If the user enters an invalid price (e.g., a negative value or a non-numeric value), display an error message and ask them to re-enter the price for that product.\n",
    "   - Use a try-except block to handle the error and continue prompting the user until a valid price is entered.\n",
    "\n",
    "3. Modify the `get_customer_orders` function to include error handling.\n",
    "   - If the user enters an invalid number of orders (e.g., a negative value or a non-numeric value), display an error message and ask them to re-enter the number of orders.\n",
    "   - If the user enters an invalid product name (e.g., a product name that is not in the inventory), or that doesn't have stock available, display an error message and ask them to re-enter the product name. *Hint: you will need to pass inventory as a parameter*\n",
    "   - Use a try-except block to handle the error and continue prompting the user until a valid product name is entered.\n",
    "\n",
    "4. Test your code by running the program and deliberately entering invalid quantities and product names. Make sure the error handling mechanism works as expected.\n"
   ]
  },
  {
   "cell_type": "code",
   "execution_count": 17,
   "id": "37001673",
   "metadata": {},
   "outputs": [
    {
     "name": "stdout",
     "output_type": "stream",
     "text": [
      "the total price of the products is: 35.0\n"
     ]
    }
   ],
   "source": [
    "#2. Modify the `calculate_total_price` function to include error handling.\n",
    " #  - If the user enters an invalid price (e.g., a negative value or a non-numeric value)\n",
    " #  display an error message and ask them to re-enter the price for that product.\n",
    "  # - Use a try-except block to handle the error and continue prompting the user until a valid price is entered.\n",
    "\n",
    "products = [\"t-shirt\", \"mug\", \"hat\", \"book\", \"keychain\"]\n",
    "def total_price(products):\n",
    "    prices = []\n",
    "    for product in products:\n",
    "        price_input = False\n",
    "        while not price_input:\n",
    "            try:\n",
    "                price = float(input(f\"please enter the price of{product}:\")) \n",
    "                if price < 0:\n",
    "                    raise ValueError (\"Invalid number! Please enter a non-negative value.\")\n",
    "                prices.append(price)\n",
    "                price_input = True\n",
    "            except ValueError as error:\n",
    "                print (f\"Error: {error}\")\n",
    "    total_price =sum(prices)       \n",
    "    return total_price\n",
    "\n",
    "price_input= total_price(products)\n",
    "print(\"the total price of the products is:\", price_input)\n",
    "\n",
    "\n"
   ]
  },
  {
   "cell_type": "code",
   "execution_count": 26,
   "id": "d9e9ad15",
   "metadata": {},
   "outputs": [
    {
     "name": "stdout",
     "output_type": "stream",
     "text": [
      "12 mug(s) added to cart!\n",
      "Final orders: {'mug': 12}\n"
     ]
    }
   ],
   "source": [
    "\n",
    "#3. Modify the `get_customer_orders` function to include error handling.\n",
    " #If the user enters an invalid number of orders (e.g., a negative value or a non-numeric value), display an error message and ask them to re-enter the number of orders.\n",
    "#If the user enters an invalid product name (e.g., a product name that is not in the inventory), or that doesn't have stock available,\n",
    "#  display an error message and ask them to re-enter the product name. *Hint: you will need to pass inventory as a parameter*\n",
    "# # Use a try-except block to handle the error and continue prompting the user until a valid product name is entered.\n",
    "\n",
    "inventory = {\n",
    "    \"t-shirt\": 10,\n",
    "    \"mug\": 15,\n",
    "    \"hat\": 5,\n",
    "    \"book\": 20,\n",
    "    \"keychain\": 8\n",
    "}\n",
    "def get_customer_orders(inventory): \n",
    "    customer_orders = {} \n",
    "\n",
    "    while True: \n",
    "\n",
    "        customer_choice = input(f\"please choose your product {products}\").strip().lower()\n",
    "        if customer_choice not in inventory or inventory[customer_choice] == 0: \n",
    "            print(\"Invalid product name or out of stock!  please choose a valid product!\")\n",
    "            continue\n",
    "        try: \n",
    "            num_orders = int(input(f\"How many {customer_choice}s would you like to order? \"))\n",
    "\n",
    "            if num_orders <= 0:\n",
    "                print(\"number of orders must be greather than zero.\")\n",
    "                continue\n",
    "            if customer_choice in customer_orders:\n",
    "                customer_orders[customer_choice] +=num_orders\n",
    "            else:\n",
    "                customer_orders[customer_choice] = num_orders\n",
    "            print(f\"{num_orders} {customer_choice}(s) added to cart!\")\n",
    "            another = input(\"Do you want to add another product? (yes/no): \").strip().lower()\n",
    "            if another != \"yes\":\n",
    "                break \n",
    "        except ValueError:\n",
    "            print(\"Error: Please enter a valid number of orders.\")\n",
    "    \n",
    "    return customer_orders\n",
    "customer_orders = get_customer_orders(inventory)\n",
    "print(\"Final orders:\", customer_orders)"
   ]
  }
 ],
 "metadata": {
  "kernelspec": {
   "display_name": "Python 3 (ipykernel)",
   "language": "python",
   "name": "python3"
  },
  "language_info": {
   "codemirror_mode": {
    "name": "ipython",
    "version": 3
   },
   "file_extension": ".py",
   "mimetype": "text/x-python",
   "name": "python",
   "nbconvert_exporter": "python",
   "pygments_lexer": "ipython3",
   "version": "3.9.12"
  }
 },
 "nbformat": 4,
 "nbformat_minor": 5
}
